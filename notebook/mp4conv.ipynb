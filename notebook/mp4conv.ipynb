{
 "cells": [
  {
   "cell_type": "markdown",
   "metadata": {},
   "source": [
    "# Convert import.mp4 in ../Files Folder to new.mp4, output.webm, output.ogv\n",
    "meant to be run locally"
   ]
  },
  {
   "cell_type": "code",
   "execution_count": 2,
   "metadata": {},
   "outputs": [],
   "source": [
    "import subprocess"
   ]
  },
  {
   "cell_type": "code",
   "execution_count": 4,
   "metadata": {},
   "outputs": [],
   "source": [
    "ffmpeg_path = 'C:\\\\ffmpeg-6.1.1-essentials_build\\\\bin\\\\ffmpeg.exe'\n",
    "io_path = \"../files/\""
   ]
  },
  {
   "cell_type": "code",
   "execution_count": 6,
   "metadata": {},
   "outputs": [
    {
     "data": {
      "text/plain": [
       "CompletedProcess(args=['C:\\\\ffmpeg-6.1.1-essentials_build\\\\bin\\\\ffmpeg.exe', '-i', '../files/input.mp4', '-vf', 'scale=iw/2:ih/2', '-af', 'volume=0.60', '-c:v', 'libx264', '-preset', 'medium', '-crf', '23', '-c:a', 'aac', '-strict', '-2', '../files/new.mp4'], returncode=0)"
      ]
     },
     "execution_count": 6,
     "metadata": {},
     "output_type": "execute_result"
    }
   ],
   "source": [
    "# Schritt 1: Halbieren der Auflösung von input.mp4 und Speichern als new.mp4\n",
    "subprocess.run([\n",
    "    ffmpeg_path,\n",
    "    '-i', io_path + 'input.mp4',\n",
    "    '-vf', 'scale=iw/2:ih/2', # Video-Filter zum Halbieren der Auflösung\n",
    "    '-af', 'volume=0.60',  # Lautstärke auf 60% reduzieren\n",
    "    '-c:v', 'libx264',  # Beibehaltung des H.264 Video-Codecs\n",
    "    '-preset', 'medium',  # Ein guter Ausgleich zwischen Geschwindigkeit und Qualität\n",
    "    '-crf', '23',  # Standard CRF-Wert für libx264, niedrigere Werte für bessere Qualität\n",
    "    '-c:a', 'aac',  # Beibehaltung des AAC Audio-Codecs\n",
    "    '-strict', '-2',  # Manchmal notwendig, um AAC zu aktivieren\n",
    "    io_path + 'new.mp4'\n",
    "])"
   ]
  },
  {
   "cell_type": "code",
   "execution_count": 8,
   "metadata": {},
   "outputs": [
    {
     "data": {
      "text/plain": [
       "CompletedProcess(args=['C:\\\\ffmpeg-6.1.1-essentials_build\\\\bin\\\\ffmpeg.exe', '-i', '../files/new.mp4', '-c:v', 'libvpx-vp9', '-crf', '30', '-b:v', '0', '-c:a', 'libvorbis', '../files/output.webm'], returncode=0)"
      ]
     },
     "execution_count": 8,
     "metadata": {},
     "output_type": "execute_result"
    }
   ],
   "source": [
    "# Schritt 2: Konvertieren von new.mp4 zu output.webm\n",
    "subprocess.run([\n",
    "    ffmpeg_path,\n",
    "    '-i', io_path + 'new.mp4',\n",
    "    '-c:v', 'libvpx-vp9',  # Video-Codec für VP9\n",
    "    '-crf', '30',  # CRF-Wert für VP9, anpassbar für Qualität, (15-35) niedriger ist bessere Q\n",
    "    '-b:v', '0',  # Bitrate, '0' für CRF-gesteuerte Bitrate\n",
    "    '-c:a', 'libvorbis',  # Audio-Codec für WebM\n",
    "    io_path + 'output.webm'\n",
    "])"
   ]
  },
  {
   "cell_type": "code",
   "execution_count": 10,
   "metadata": {},
   "outputs": [
    {
     "data": {
      "text/plain": [
       "CompletedProcess(args=['C:\\\\ffmpeg-6.1.1-essentials_build\\\\bin\\\\ffmpeg.exe', '-i', '../files/new.mp4', '-c:v', 'libtheora', '-q:v', '6', '-c:a', 'libvorbis', '../files/output.ogv'], returncode=0)"
      ]
     },
     "execution_count": 10,
     "metadata": {},
     "output_type": "execute_result"
    }
   ],
   "source": [
    "# Schritt 3: Konvertieren von new.mp4 zu output.ogv\n",
    "subprocess.run([\n",
    "    ffmpeg_path,\n",
    "    '-i', io_path + 'new.mp4',\n",
    "    '-c:v', 'libtheora',  # Video-Codec für Theora\n",
    "    '-q:v', '6',  # Qualitätslevel für Theora, anpassbar, (0-10) höher ist bessere Q\n",
    "    '-c:a', 'libvorbis',  # Audio-Codec für OGV\n",
    "    io_path + 'output.ogv'    \n",
    "])"
   ]
  }
 ],
 "metadata": {
  "kernelspec": {
   "display_name": "Python 3",
   "language": "python",
   "name": "python3"
  },
  "language_info": {
   "codemirror_mode": {
    "name": "ipython",
    "version": 3
   },
   "file_extension": ".py",
   "mimetype": "text/x-python",
   "name": "python",
   "nbconvert_exporter": "python",
   "pygments_lexer": "ipython3",
   "version": "3.12.1"
  }
 },
 "nbformat": 4,
 "nbformat_minor": 2
}
